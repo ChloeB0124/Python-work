{
 "cells": [
  {
   "cell_type": "markdown",
   "metadata": {
    "colab_type": "text",
    "id": "06bbe_5WGk3v"
   },
   "source": [
    "#**SIT 720 - Machine Learning**\n",
    "\n",
    "Lecturer: Chandan Karmakar | karmakar@deakin.edu.au\n",
    "\n",
    "School of Information Technology,\n",
    "<br/>Deakin University, VIC 3125, Australia."
   ]
  },
  {
   "cell_type": "markdown",
   "metadata": {
    "colab_type": "text",
    "id": "es6VJF6zGpZi"
   },
   "source": [
    "#**Assessment Task 2 (30 marks)**\n",
    "\n",
    "##**Submission Instruction**\n",
    "1.  Student should insert Python code or text responses into the cell followed by the question.\n",
    "\n",
    "2.  For answers regarding discussion or explanation, **maximum five sentences are suggested**.\n",
    "\n",
    "3.  Rename this notebook file appending your student ID. For example, for student ID 1234, the submitted file name should be A2_1234.ipynb.\n",
    "\n",
    "4.  Insert your student ID and name in the following cell."
   ]
  },
  {
   "cell_type": "code",
   "execution_count": null,
   "metadata": {
    "colab": {},
    "colab_type": "code",
    "id": "IeD67KEpG8I6"
   },
   "outputs": [],
   "source": [
    "# Student ID: 219446914\n",
    "\n",
    "# Student name: Bui, Nhu Hoang Ha (Chloe)"
   ]
  },
  {
   "cell_type": "markdown",
   "metadata": {
    "colab_type": "text",
    "id": "oYFXM_D7HCHb"
   },
   "source": [
    "## Part 1: Clustering *(15 marks)*\n",
    "\n",
    "Let's assume you want to design an environment to predict a class/category from a dataset based on specific features of that class. However, all the features are not strong enough or in other words features not that much variance/uniqueness across the classes. So, you have to design a clustering model by answering the following questions:\n",
    "\n",
    "1. Download the attached clustering.csv file. Read the file and separate the class and feature matrix. __(2 marks)__"
   ]
  },
  {
   "cell_type": "code",
   "execution_count": 85,
   "metadata": {
    "colab": {},
    "colab_type": "code",
    "id": "crKN9O9jKi4w"
   },
   "outputs": [],
   "source": [
    "# Importing libraries\n",
    "import matplotlib.pyplot as mp\n",
    "import pandas as pd\n",
    "import numpy as np\n",
    "from sklearn.cluster import KMeans\n",
    "from sklearn.feature_selection import f_classif\n",
    "from sklearn.metrics.cluster import v_measure_score\n",
    "from sklearn.feature_selection import SelectKBest\n",
    "from sklearn.decomposition import IncrementalPCA\n",
    "from numpy import set_printoptions"
   ]
  },
  {
   "cell_type": "code",
   "execution_count": 86,
   "metadata": {},
   "outputs": [],
   "source": [
    "# importing the csv data file\n",
    "df = pd.read_csv(\"clustering.csv\")\n",
    "#separating the class and feature matrix\n",
    "y = df.Class\n",
    "X =  df.iloc[:,:-1]"
   ]
  },
  {
   "cell_type": "markdown",
   "metadata": {},
   "source": [
    "Separating dataset from the csv file into 2 data frames with the X is the feature matrix which is the first 7 columns of the dataset, and the Y is the last column of the dataset which is the class matrix. "
   ]
  },
  {
   "cell_type": "markdown",
   "metadata": {
    "colab_type": "text",
    "id": "3CYvoztIKjoq"
   },
   "source": [
    "2. Determine the number of clusters from the dataset. Is this same as the actual number of classes in the dataset? __(1 marks)__\n",
    "\n",
    "<!-- Choose the best three features using different selection criteria (ANOVA, Chi-squared) based on the purity score for the k-mean cluster (Euclidean distance matrix). Which one is good and why? __(5 marks)__ -->"
   ]
  },
  {
   "cell_type": "code",
   "execution_count": 87,
   "metadata": {
    "colab": {},
    "colab_type": "code",
    "id": "WFia7uNt5POP"
   },
   "outputs": [
    {
     "data": {
      "text/plain": [
       "Text(0.5, 0, 'Number of cluster')"
      ]
     },
     "execution_count": 87,
     "metadata": {},
     "output_type": "execute_result"
    },
    {
     "data": {
      "image/png": "[encoded data removed]",
      "text/plain": [
       "<Figure size 576x396 with 1 Axes>"
      ]
     },
     "metadata": {},
     "output_type": "display_data"
    }
   ],
   "source": [
    "#Finding number of clusters\n",
    "import sklearn.cluster as skc\n",
    "\n",
    "totSqrdDist=[]\n",
    "kRange = range(1,10)\n",
    "for k in kRange:\n",
    "    kmns = skc.KMeans(n_clusters=k)\n",
    "    kmns = kmns.fit(df)\n",
    "    totSqrdDist.append(kmns.inertia_)\n",
    "    \n",
    "mp.plot(kRange,totSqrdDist,'-xk')\n",
    "mp.ylabel('Sum of squared distance')\n",
    "mp.xlabel('Number of cluster')    \n"
   ]
  },
  {
   "cell_type": "markdown",
   "metadata": {},
   "source": [
    "The optimal number of clusters by using Elbow method is k=3"
   ]
  },
  {
   "cell_type": "code",
   "execution_count": 88,
   "metadata": {},
   "outputs": [
    {
     "name": "stdout",
     "output_type": "stream",
     "text": [
      "Classes in the dataset: [2, 1, 0]\n"
     ]
    }
   ],
   "source": [
    "print(f\"Classes in the dataset: {list(y.value_counts().index)}\")"
   ]
  },
  {
   "cell_type": "markdown",
   "metadata": {},
   "source": [
    "Using k ranges from 1 to 10. From the chart above, the optimal number of cluster using Elbow method is 3. Moreover, the actual number of classes in the dataset is also 3. Therefore, the number of clusters from the dataset is similar with the number classes in the dataset."
   ]
  },
  {
   "cell_type": "markdown",
   "metadata": {
    "colab_type": "text",
    "id": "lomdzPf33Ga8"
   },
   "source": [
    "3. Perform K-Means clustering on the complete dataset and report purity score. __(2 marks)__ "
   ]
  },
  {
   "cell_type": "code",
   "execution_count": 89,
   "metadata": {
    "colab": {},
    "colab_type": "code",
    "id": "UaI08RF5KoPK"
   },
   "outputs": [
    {
     "name": "stdout",
     "output_type": "stream",
     "text": [
      "[0 0 0 0 0 0 0 0 0 0 0 0 0 0 0 0 2 0 0 2 0 0 0 0 0 0 2 0 0 0 0 0 0 0 0 0 0\n",
      " 1 0 2 0 0 0 0 0 0 0 0 0 0 0 0 0 0 0 0 0 0 0 0 2 2 2 2 0 0 0 0 0 2 1 1 1 1\n",
      " 1 1 1 1 1 1 1 1 1 1 1 1 1 1 1 1 1 1 1 1 1 1 1 1 1 1 0 1 1 1 1 1 1 1 1 1 1\n",
      " 1 1 1 1 1 1 1 1 1 1 1 0 1 0 1 1 1 1 1 1 1 0 0 0 0 1 0 0 0 2 2 2 2 2 2 2 2\n",
      " 2 2 2 2 2 2 2 2 2 2 2 2 2 2 2 2 2 2 2 2 2 2 2 2 2 2 2 2 2 2 2 0 2 2 2 2 2\n",
      " 2 2 2 2 2 2 2 2 2 2 2 2 2 2 2 2 0 2 2 2 2 2 2 2 2]\n",
      "[[14.64847222 14.46041667  0.87916667  5.56377778  3.27790278  2.64893333\n",
      "   5.19231944]\n",
      " [18.72180328 16.29737705  0.88508689  6.20893443  3.72267213  3.60359016\n",
      "   6.06609836]\n",
      " [11.96441558 13.27480519  0.8522      5.22928571  2.87292208  4.75974026\n",
      "   5.08851948]]\n",
      "Purity score is 89.52%\n"
     ]
    }
   ],
   "source": [
    "kmeans = KMeans(n_clusters = 3)\n",
    "kmeans = kmeans.fit(X)\n",
    "labels = kmeans.labels_\n",
    "centroids = kmeans.cluster_centers_\n",
    "\n",
    "print(labels)\n",
    "print(centroids)\n",
    "\n",
    "#Counting the number of the labels in each cluster and saving the data into clustering_classes\n",
    "clustering_classes = {\n",
    "    0: [0,0,0],\n",
    "    1: [0,0,0],\n",
    "    2: [0,0,0]\n",
    "}\n",
    "for i in range(len(y)):\n",
    "    clustering_classes[labels[i]][y[i]] += 1\n",
    "\n",
    "#Finding the most appeared label in each cluster and computing the purity score.\n",
    "purity_score = (max(clustering_classes[0])+max(clustering_classes[1])+max(clustering_classes[2]))/len(y)\n",
    "print(f\"Purity score is {round(purity_score*100,2)}%\")"
   ]
  },
  {
   "cell_type": "markdown",
   "metadata": {},
   "source": [
    "Based on the result, the purity score of Kmeans clustering is showing approximately 90%. This means almost 189 out of 210 observtions in the dataset are located in the right cluster."
   ]
  },
  {
   "cell_type": "markdown",
   "metadata": {
    "colab_type": "text",
    "id": "CsImMLOzK1dV"
   },
   "source": [
    "4. There are several distance metrics for  K-Means such as euclidean, squared euclidean, Manhattan, Chebyshev, Minkowski. [ __Hints:__ See the pyclustering library for python.]\n",
    "    - Your job is to compare the purity score of k-means clustering for different distance metrics. __(5 marks)__ \n",
    "    - Select the best distance metric and explain why this distance metric is best for the given dataset. __(2 marks)__ "
   ]
  },
  {
   "cell_type": "code",
   "execution_count": 90,
   "metadata": {
    "colab": {},
    "colab_type": "code",
    "id": "dBNLhGYRKo4a"
   },
   "outputs": [
    {
     "name": "stdout",
     "output_type": "stream",
     "text": [
      "Requirement already satisfied: pyclustering in /Users/hoangha/opt/anaconda3/lib/python3.7/site-packages (0.10.0.1)\n",
      "Requirement already satisfied: numpy in /Users/hoangha/opt/anaconda3/lib/python3.7/site-packages (from pyclustering) (1.18.1)\n",
      "Requirement already satisfied: scipy in /Users/hoangha/opt/anaconda3/lib/python3.7/site-packages (from pyclustering) (1.4.1)\n",
      "Requirement already satisfied: matplotlib in /Users/hoangha/opt/anaconda3/lib/python3.7/site-packages (from pyclustering) (3.1.3)\n",
      "Requirement already satisfied: Pillow in /Users/hoangha/opt/anaconda3/lib/python3.7/site-packages (from pyclustering) (7.0.0)\n",
      "Requirement already satisfied: pyparsing!=2.0.4,!=2.1.2,!=2.1.6,>=2.0.1 in /Users/hoangha/opt/anaconda3/lib/python3.7/site-packages (from matplotlib->pyclustering) (2.4.6)\n",
      "Requirement already satisfied: kiwisolver>=1.0.1 in /Users/hoangha/opt/anaconda3/lib/python3.7/site-packages (from matplotlib->pyclustering) (1.1.0)\n",
      "Requirement already satisfied: cycler>=0.10 in /Users/hoangha/opt/anaconda3/lib/python3.7/site-packages (from matplotlib->pyclustering) (0.10.0)\n",
      "Requirement already satisfied: python-dateutil>=2.1 in /Users/hoangha/opt/anaconda3/lib/python3.7/site-packages (from matplotlib->pyclustering) (2.8.1)\n",
      "Requirement already satisfied: setuptools in /Users/hoangha/opt/anaconda3/lib/python3.7/site-packages (from kiwisolver>=1.0.1->matplotlib->pyclustering) (46.0.0.post20200309)\n",
      "Requirement already satisfied: six in /Users/hoangha/opt/anaconda3/lib/python3.7/site-packages (from cycler>=0.10->matplotlib->pyclustering) (1.14.0)\n"
     ]
    }
   ],
   "source": [
    "!pip install pyclustering"
   ]
  },
  {
   "cell_type": "code",
   "execution_count": 92,
   "metadata": {},
   "outputs": [
    {
     "name": "stdout",
     "output_type": "stream",
     "text": [
      "Purity score of k-means with EUCLIDEAN metric is 89.52%\n",
      "Purity score of k-means with EUCLIDEAN SQUARE metric is 89.52%\n",
      "Purity score of k-means with MANHATTAN metric is 89.05%\n",
      "Purity score of k-means with CHEBYSHEV metric is 87.62%\n",
      "Purity score of k-means with MINKOWSKI metric (p = 4) is 88.57%\n"
     ]
    }
   ],
   "source": [
    "from pyclustering.samples.definitions import FCPS_SAMPLES\n",
    "from pyclustering.cluster.center_initializer import kmeans_plusplus_initializer\n",
    "from pyclustering.cluster.kmeans import kmeans, kmeans_visualizer\n",
    "from pyclustering.utils.metric import distance_metric, type_metric\n",
    "\n",
    "def purity_score(clusters_label):\n",
    "    clustering_classes2 = {\n",
    "        0: [0,0,0],\n",
    "        1: [0,0,0],\n",
    "        2: [0,0,0]\n",
    "    }\n",
    "    for cluster in range(3):\n",
    "        for i in clusters_label[cluster]:\n",
    "            clustering_classes2[cluster][y[i]] += 1\n",
    "    purity = (max(clustering_classes2[0])+max(clustering_classes2[1])+max(clustering_classes2[2]))/len(y)\n",
    "    return purity\n",
    " \n",
    "#Preparing initial centroids using K-Means++ method.\n",
    "initial_centroids = kmeans_plusplus_initializer(X, 3).initialize()\n",
    "\n",
    "#K-mean with the Euclidean metric\n",
    "euclidean_metric = distance_metric(type_metric.EUCLIDEAN)\n",
    "kmeans_instance_euclidean = kmeans(X, initial_centroids, metric=euclidean_metric)\n",
    "kmeans_instance_euclidean.process()\n",
    "clusters_euclidean = kmeans_instance_euclidean.get_clusters()\n",
    "final_centroids_euclidean = kmeans_instance_euclidean.get_centers()\n",
    "print(f\"Purity score of k-means with EUCLIDEAN metric is {round(purity_score(clusters_euclidean)*100, 2)}%\")\n",
    "\n",
    "# K-mean with the Euclidean Square metric\n",
    "euclidean_square_metric = distance_metric(type_metric.EUCLIDEAN_SQUARE)\n",
    "kmeans_instance_euclidean_square = kmeans(X, initial_centroids, metric=euclidean_square_metric)\n",
    "kmeans_instance_euclidean_square.process()\n",
    "clusters_euclidean_square = kmeans_instance_euclidean_square.get_clusters()\n",
    "final_centroids_euclidean_square = kmeans_instance_euclidean_square.get_centers()\n",
    "print(f\"Purity score of k-means with EUCLIDEAN SQUARE metric is {round(purity_score(clusters_euclidean_square)*100, 2)}%\")\n",
    "\n",
    "# K-mean with the Manhattan metric\n",
    "manhattan_metric = distance_metric(type_metric.MANHATTAN)\n",
    "kmeans_instance_manhattan = kmeans(X, initial_centroids, metric=manhattan_metric)\n",
    "kmeans_instance_manhattan.process()\n",
    "clusters_manhattan = kmeans_instance_manhattan.get_clusters()\n",
    "final_centroids_manhattan = kmeans_instance_manhattan.get_centers()\n",
    "print(f\"Purity score of k-means with MANHATTAN metric is {round(purity_score(clusters_manhattan)*100, 2)}%\")\n",
    "\n",
    "#K-mean with the Chebyshev metric\n",
    "chebyshev_metric = distance_metric(type_metric.CHEBYSHEV)\n",
    "kmeans_instance_chebyshev = kmeans(X, initial_centroids, metric=chebyshev_metric)\n",
    "kmeans_instance_chebyshev.process()\n",
    "clusters_chebyshev = kmeans_instance_chebyshev.get_clusters()\n",
    "final_centroids_chebyshev = kmeans_instance_chebyshev.get_centers()\n",
    "print(f\"Purity score of k-means with CHEBYSHEV metric is {round(purity_score(clusters_chebyshev)*100, 2)}%\")\n",
    "\n",
    "#K-mean with the Minkowski metric (p = 4)\n",
    "minkowski_metric = distance_metric(type_metric.MINKOWSKI, degree = 4)\n",
    "kmeans_instance_minkowski = kmeans(X, initial_centroids, metric=minkowski_metric)\n",
    "kmeans_instance_minkowski.process()\n",
    "clusters_minkowski = kmeans_instance_minkowski.get_clusters()\n",
    "final_centroids_minkowski = kmeans_instance_minkowski.get_centers()\n",
    "print(f\"Purity score of k-means with MINKOWSKI metric (p = 4) is {round(purity_score(clusters_minkowski)*100, 2)}%\")"
   ]
  },
  {
   "cell_type": "markdown",
   "metadata": {},
   "source": [
    "- Based on the purity score summary of K-means clustering with different distance metrics, both the Euclidean and Euclidean Square metrics have the highest purity score (89.52%). While the lowest purity score is the k-means with Chebyshev metric (87.62%).\n",
    "\n",
    "- Therefore, these EUCLIDEAN metrics are the best to work with this dataset because they have the highest purity score which means almost 90% of observtions will be located in the right cluster."
   ]
  },
  {
   "cell_type": "markdown",
   "metadata": {
    "colab_type": "text",
    "id": "xsG5SQti4b7E"
   },
   "source": [
    "5. Use selection criteria (ANOVA, Chi-squared) to select best three features and use them for K-Means clustering. Based on the purity score which feature set are you going to recommend and why? __(3 marks)__"
   ]
  },
  {
   "cell_type": "code",
   "execution_count": 93,
   "metadata": {
    "colab": {},
    "colab_type": "code",
    "id": "9lCTzujBKpL4"
   },
   "outputs": [
    {
     "name": "stdout",
     "output_type": "stream",
     "text": [
      "The dataset with best three selected features after using ANOVA:\n",
      "   height  length    min\n",
      "0   15.26   14.84  3.312\n",
      "1   14.88   14.57  3.333\n",
      "2   14.29   14.09  3.337\n",
      "3   13.84   13.94  3.379\n",
      "4   16.14   14.99  3.562\n",
      "Purity score of the new data after using ANOVA 84.29%\n",
      "The dataset with best three selected features after using Chi Square:\n",
      "   height  length    max\n",
      "0   15.26   14.84  2.221\n",
      "1   14.88   14.57  1.018\n",
      "2   14.29   14.09  2.699\n",
      "3   13.84   13.94  2.259\n",
      "4   16.14   14.99  1.355\n",
      "Purity score of the new data after using Chi Square 89.52%\n"
     ]
    }
   ],
   "source": [
    "#Using ANOVA to create the new dataset with only best three selected features \n",
    "X_new_anova = SelectKBest(f_classif, k=3).fit_transform(X, y)\n",
    "X_new_anova = pd.DataFrame(X_new_anova, columns = [\"height\", \"length\", \"min\"])\n",
    "print(\"The dataset with best three selected features after using ANOVA:\")\n",
    "print(X_new_anova.head())\n",
    "kmeans_anova = KMeans(n_clusters = 3).fit(X_new_anova)\n",
    "labels_anova = kmeans_anova.labels_\n",
    "#Counting the number of the labels in each cluster and saving the data into clustering_classes\n",
    "clustering_classes_anova = {\n",
    "    0: [0,0,0],\n",
    "    1: [0,0,0],\n",
    "    2: [0,0,0]\n",
    "}\n",
    "for i in range(len(y)):\n",
    "    clustering_classes_anova[labels_anova[i]][y[i]] += 1\n",
    "    \n",
    "#Finding the most appeared label in each cluster and computing the purity score\n",
    "purity_score_anova = (max(clustering_classes_anova[0])+max(clustering_classes_anova[1])+max(clustering_classes_anova[2]))/len(y)\n",
    "print(f\"Purity score of the new data after using ANOVA {round(purity_score_anova*100, 2)}%\")\n",
    "\n",
    "\n",
    "\n",
    "#Using Chi Square to create the new dataset with only best three selected features  \n",
    "from sklearn.feature_selection import SelectKBest, chi2, f_classif\n",
    "X_new_chi = SelectKBest(chi2, k=3).fit_transform(X, y)\n",
    "X_new_chi = pd.DataFrame(X_new_chi, columns = [\"height\", \"length\", \"max\"])\n",
    "print(\"The dataset with best three selected features after using Chi Square:\")\n",
    "print(X_new_chi.head())\n",
    "kmeans_chi = KMeans(n_clusters = 3).fit(X_new_chi)\n",
    "labels_chi = kmeans_chi.labels_\n",
    "#Counting the number of the labels in each cluster and saving the data into clustering_classes\n",
    "clustering_classes_chi = {\n",
    "    0: [0,0,0],\n",
    "    1: [0,0,0],\n",
    "    2: [0,0,0]\n",
    "}\n",
    "for i in range(len(y)):\n",
    "    clustering_classes_chi[labels_chi[i]][y[i]] += 1\n",
    "    \n",
    "#Finding the most appeared label in each cluster and computing the purity score\n",
    "purity_score_chi = (max(clustering_classes_chi[0])+max(clustering_classes_chi[1])+max(clustering_classes_chi[2]))/len(y)\n",
    "print(f\"Purity score of the new data after using Chi Square {round(purity_score_chi*100, 2)}%\")"
   ]
  },
  {
   "cell_type": "markdown",
   "metadata": {},
   "source": [
    "From the result of purity score, the dataset after applying Chi Square to select 3 best features has higher purity score (around 90%) and is similar with the purity score of the original dataset (Question 3). While the data set using ANOVA has lower purity score, just 84%. Therefore, the feature set is recommended to use include: Height, Max, and Length because the higher purity score and time-saving instead of using the whole dataset."
   ]
  },
  {
   "cell_type": "markdown",
   "metadata": {
    "colab_type": "text",
    "id": "Key1p4RKLEW9"
   },
   "source": [
    "# Part-2 (Dimensionality Reduction using PCA/SVD) *(15 marks)*\n",
    "\n",
    "1. For the dataset (clustering.csv), perform PCA.\n",
    "    - plot the captured variance with respect to increasing latent dimensionality. __(2.5 marks)__\n",
    "  \n",
    "  What is the minimum dimension that captures:\n",
    "    - at least 89% variance? __(1.5 marks)__\n",
    "    - at least 99% variance? __(1 marks)__"
   ]
  },
  {
   "cell_type": "code",
   "execution_count": 94,
   "metadata": {
    "colab": {},
    "colab_type": "code",
    "id": "EkJU33yYKpen"
   },
   "outputs": [
    {
     "data": {
      "text/plain": [
       "Text(0, 0.5, 'Variance captured')"
      ]
     },
     "execution_count": 94,
     "metadata": {},
     "output_type": "execute_result"
    },
    {
     "data": {
      "image/png": "[encoded data removed]",
      "text/plain": [
       "<Figure size 576x396 with 1 Axes>"
      ]
     },
     "metadata": {},
     "output_type": "display_data"
    }
   ],
   "source": [
    "#Normalizing the dataset\n",
    "from sklearn.preprocessing import scale\n",
    "Xnormalize = scale(X)\n",
    "\n",
    "#Using sklearn PCA implementation to perform PCA\n",
    "from sklearn.decomposition import PCA\n",
    "pca = PCA(n_components=7)\n",
    "# Fitting PCA model\n",
    "pca = pca.fit(Xnormalize)\n",
    "var = pca.explained_variance_ratio_\n",
    "var1 = np.cumsum(np.round(pca.explained_variance_ratio_, decimals=4)*100)\n",
    "#Plotting the captured variance with respect to increasing latent dimensionality.\n",
    "mp.plot(var1)\n",
    "mp.xlabel(\"Principal components\")\n",
    "mp.ylabel(\"Variance captured\")"
   ]
  },
  {
   "cell_type": "code",
   "execution_count": 95,
   "metadata": {},
   "outputs": [
    {
     "name": "stdout",
     "output_type": "stream",
     "text": [
      "Minimum dimension that captures at least 89% variance is 3\n",
      "Minimum dimension that captures at least 99% variance is 4\n"
     ]
    }
   ],
   "source": [
    "pca_89 = PCA(n_components= 0.89)\n",
    "X_89 = pca_89.fit_transform(Xnormalize)\n",
    "print(f\"Minimum dimension that captures at least 89% variance is {X_89.shape[1]}\")\n",
    "\n",
    "pca_89 = PCA(n_components= 0.89)\n",
    "X_99 = pca_99.fit_transform(Xnormalize)\n",
    "print(f\"Minimum dimension that captures at least 99% variance is {X_99.shape[1]}\")"
   ]
  },
  {
   "cell_type": "markdown",
   "metadata": {
    "colab_type": "text",
    "id": "x9JPYP0vLKzp"
   },
   "source": [
    "2. Determine the purity of clusters formed by the number of principal components which captured 89% and 99% variances respectively. Plot a line graph of the purity scores against the captured variances. Discuss your findings. __(7 marks)__"
   ]
  },
  {
   "cell_type": "code",
   "execution_count": 97,
   "metadata": {
    "colab": {},
    "colab_type": "code",
    "id": "8_a-xp2PKpya"
   },
   "outputs": [
    {
     "name": "stdout",
     "output_type": "stream",
     "text": [
      "KMeans(algorithm='auto', copy_x=True, init='k-means++', max_iter=300,\n",
      "       n_clusters=3, n_init=10, n_jobs=None, precompute_distances='auto',\n",
      "       random_state=None, tol=0.0001, verbose=0)\n",
      "The purity score is 92.38 %\n",
      "KMeans(algorithm='auto', copy_x=True, init='k-means++', max_iter=300,\n",
      "       n_clusters=3, n_init=10, n_jobs=None, precompute_distances='auto',\n",
      "       random_state=None, tol=0.0001, verbose=0)\n",
      "The purity score is 91.9 %\n"
     ]
    },
    {
     "data": {
      "text/plain": [
       "Text(0, 0.5, 'Purity scores')"
      ]
     },
     "execution_count": 97,
     "metadata": {},
     "output_type": "execute_result"
    },
    {
     "data": {
      "image/png": "[encoded data removed]",
      "text/plain": [
       "<Figure size 576x396 with 1 Axes>"
      ]
     },
     "metadata": {},
     "output_type": "display_data"
    }
   ],
   "source": [
    "#With 89% captured variances\n",
    "kmeans_89 = KMeans(n_clusters = 3).fit(X_89)\n",
    "print(kmeans_89)\n",
    "labels_89 = kmeans_89.labels_\n",
    "\n",
    "#Counting the number of the labels in each cluster and saving the data into clustering_classes\n",
    "clustering_classes_89 = {\n",
    "    0: [0,0,0],\n",
    "    1: [0,0,0],\n",
    "    2: [0,0,0]\n",
    "}\n",
    "for i in range(len(y)):\n",
    "    clustering_classes_89[labels_89[i]][y[i]] += 1\n",
    "\n",
    "#Finding the most appeared label in each cluster and computing the purity score\n",
    "purity_score_89 = (max(clustering_classes_89[0])+max(clustering_classes_89[1])+max(clustering_classes_89[2]))/len(y)\n",
    "print(f\"The purity score is {round(purity_score_89*100,2)} %\")\n",
    "\n",
    "\n",
    "#With 99% captured variances\n",
    "kmeans_99 = KMeans(n_clusters = 3).fit(X_99)\n",
    "print(kmeans_99)\n",
    "labels_99 = kmeans_99.labels_\n",
    "\n",
    "#Counting the number of the labels in each cluster and saving the data into clustering_classes\n",
    "clustering_classes_99 = {\n",
    "    0: [0,0,0],\n",
    "    1: [0,0,0],\n",
    "    2: [0,0,0]\n",
    "}\n",
    "for i in range(len(y)):\n",
    "    clustering_classes_99[labels_99[i]][y[i]] += 1\n",
    "\n",
    "#Finding the most appeared label in each cluster and computing the purity score\n",
    "purity_score_99 = (max(clustering_classes_99[0])+max(clustering_classes_99[1])+max(clustering_classes_99[2]))/len(y)\n",
    "print(f\"The purity score is {round(purity_score_99*100,2)} %\")\n",
    "\n",
    "purity_scores = [purity_score_89, purity_score_99] \n",
    "Variance = [0.89, 0.99]\n",
    "mp.plot(purity_scores, Variance)\n",
    "mp.xlabel(\"captured variances\")\n",
    "mp.ylabel(\"Purity scores\")"
   ]
  },
  {
   "cell_type": "markdown",
   "metadata": {},
   "source": [
    "Firstly, the purity score of clusters formed by the number of pricipal components is determined with 89% and 99% captured variances, respectively. From the line graph between the purity score and captured variances, the purity score for 89% captured variances is 92.38% while the purity score for 99% captured variances is lower, just 91.9%. Therefore, the recommended captured variances for implementing PCA is 89%."
   ]
  },
  {
   "cell_type": "markdown",
   "metadata": {
    "colab_type": "text",
    "id": "8RmhzV_MK-ia"
   },
   "source": [
    "3. Let's assume you have two datasets one is linear and another is curved structural data.\n",
    "    - Can we apply PCA on these datasets? Justify your answer. __(3 marks)__ "
   ]
  },
  {
   "cell_type": "markdown",
   "metadata": {
    "colab": {},
    "colab_type": "code",
    "id": "_9NpVDBwKqD-"
   },
   "source": [
    "There are 3 assumptions of PCA:\n",
    " \n",
    "Correlations: There should be correlating factors to be considered for the PCA. \n",
    " \n",
    "Linearity: The assumption that the relationship amongst variables are related linearly. \n",
    " \n",
    "Outliers: should be removed as PCA is sensitive to outliers. \n",
    " \n",
    "Therefore, PCA is only applied on the linear data while with the structured data, PCA cannot be applied. A PCA computation still can be done on the nonlinear data but the outcomes will be negligible, except decomposing to the prevailing linear modes and providing a worldwide linear representation of the spread of the data. On the off chance that the data is non-linear, there are two prospects:\n",
    " \n",
    "1) Try to do the transformation that will make the data is linear \n",
    " \n",
    "2) Use a non-straight measurement decrease (Nonlinear dimensionality reduction 2020)\n",
    "Nonlinear PCA (NLPCA) utilizes backpropagation to prepare a multi-layer perceptron (MLP) to fit to a complex. Dissimilar to commonplace MLP preparing, which just updates the weights, NLPCA refreshes both the weights and the inputs. They are considered as latent values. Subsequent to preparing, the latent inputs are a low-dimensional portrayal of the watched vectors, and the multi-layer perceptron maps are also from that low-dimensional portrayal to the high-dimensional perception space."
   ]
  },
  {
   "cell_type": "markdown",
   "metadata": {},
   "source": [
    "References\n",
    "\n",
    "‘Nonlinear dimensionality reduction’ 2020, Wikipedia, the free encyclopedia, 26 August, retrieved 27 August 2020, <http://en.wikipedia.org/wiki/Nonlinear_dimensionality_reduction>."
   ]
  }
 ],
 "metadata": {
  "colab": {
   "collapsed_sections": [],
   "name": "A2.ipynb",
   "provenance": []
  },
  "kernelspec": {
   "display_name": "Python 3",
   "language": "python",
   "name": "python3"
  },
  "language_info": {
   "codemirror_mode": {
    "name": "ipython",
    "version": 3
   },
   "file_extension": ".py",
   "mimetype": "text/x-python",
   "name": "python",
   "nbconvert_exporter": "python",
   "pygments_lexer": "ipython3",
   "version": "3.8.3"
  }
 },
 "nbformat": 4,
 "nbformat_minor": 1
}
